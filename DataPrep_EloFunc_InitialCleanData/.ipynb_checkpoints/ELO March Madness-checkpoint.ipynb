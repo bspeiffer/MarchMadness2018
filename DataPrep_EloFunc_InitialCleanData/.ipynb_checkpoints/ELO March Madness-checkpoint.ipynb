{
 "cells": [
  {
   "cell_type": "code",
   "execution_count": 1,
   "metadata": {
    "_cell_guid": "79d84110-0fbb-2c82-5437-fc01f43e544e"
   },
   "outputs": [],
   "source": [
    "# This Python 3 environment comes with many helpful analytics libraries installed\n",
    "# It is defined by the kaggle/python docker image: https://github.com/kaggle/docker-python\n",
    "# For example, here's several helpful packages to load in \n",
    "\n",
    "import numpy as np # linear algebra\n",
    "import pandas as pd # data processing, CSV file I/O (e.g. pd.read_csv)\n",
    "import matplotlib.pyplot as plt\n",
    "import seaborn as sns\n",
    "from sklearn.preprocessing import LabelEncoder\n",
    "sns.set_style(\"darkgrid\")\n",
    "sns.set_context(\"notebook\")\n",
    "%matplotlib inline\n",
    "\n",
    "# Input data files are available in the \"../input/\" directory.\n",
    "# For example, running this (by clicking run or pressing Shift+Enter) will list the files in the input directory\n",
    "\n",
    "from subprocess import check_output\n",
    "#print(check_output([\"dir\", \"/b\", \"/a-d\",\"input\"], shell=True).decode(\"utf8\"))\n",
    "\n",
    "# Any results you write to the current directory are saved as output."
   ]
  },
  {
   "cell_type": "markdown",
   "metadata": {
    "_cell_guid": "30bfeed0-04fe-60db-792a-9bdcb0cbe557"
   },
   "source": [
    "Set some constants we need to compute Elo ratings"
   ]
  },
  {
   "cell_type": "code",
   "execution_count": 2,
   "metadata": {
    "_cell_guid": "53528b4c-80e8-e64f-0d1f-767f1c767f67"
   },
   "outputs": [],
   "source": [
    "mean_elo = 1500\n",
    "elo_width = 400\n",
    "k_factor = 64"
   ]
  },
  {
   "cell_type": "markdown",
   "metadata": {
    "_cell_guid": "f063a314-209b-9f7d-b704-11fab26b3ca1"
   },
   "source": [
    "## Load the data ##"
   ]
  },
  {
   "cell_type": "code",
   "execution_count": 3,
   "metadata": {
    "_cell_guid": "fde48030-9f34-b683-9808-6c77ede8df51"
   },
   "outputs": [],
   "source": [
    "data_dir = 'input/'"
   ]
  },
  {
   "cell_type": "code",
   "execution_count": 4,
   "metadata": {
    "_cell_guid": "edb85d25-e2c7-50d5-a79c-f5f2d43aaceb"
   },
   "outputs": [],
   "source": [
    "df_reg = pd.read_csv(data_dir + 'RegularSeasonCompactResults_Prelim2018.csv')\n",
    "df_tour = pd.read_csv(data_dir + 'NCAATourneyCompactResults.csv')\n",
    "df_tour_b2017 = df_tour[df_tour.Season < 2017]\n",
    "df_tour_test = df_tour[df_tour.Season > 2016]"
   ]
  },
  {
   "cell_type": "markdown",
   "metadata": {
    "_cell_guid": "c3b3642c-8cec-1f15-9481-63e6a3fa5384"
   },
   "source": [
    "- Concatenate both regular season and tournament results into one DataFrame.\n",
    "- Drop the columns we don't need. \n",
    "- Sort chronologically, ie by season, then by date in that season"
   ]
  },
  {
   "cell_type": "code",
   "execution_count": 5,
   "metadata": {
    "_cell_guid": "44292bb3-c6a1-a8a1-ac32-8e1e5193848f"
   },
   "outputs": [
    {
     "data": {
      "text/html": [
       "<div>\n",
       "<style>\n",
       "    .dataframe thead tr:only-child th {\n",
       "        text-align: right;\n",
       "    }\n",
       "\n",
       "    .dataframe thead th {\n",
       "        text-align: left;\n",
       "    }\n",
       "\n",
       "    .dataframe tbody tr th {\n",
       "        vertical-align: top;\n",
       "    }\n",
       "</style>\n",
       "<table border=\"1\" class=\"dataframe\">\n",
       "  <thead>\n",
       "    <tr style=\"text-align: right;\">\n",
       "      <th></th>\n",
       "      <th>Season</th>\n",
       "      <th>Daynum</th>\n",
       "      <th>Wteam</th>\n",
       "      <th>Lteam</th>\n",
       "    </tr>\n",
       "  </thead>\n",
       "  <tbody>\n",
       "    <tr>\n",
       "      <th>0</th>\n",
       "      <td>1985</td>\n",
       "      <td>20</td>\n",
       "      <td>1228</td>\n",
       "      <td>1328</td>\n",
       "    </tr>\n",
       "    <tr>\n",
       "      <th>1</th>\n",
       "      <td>1985</td>\n",
       "      <td>25</td>\n",
       "      <td>1106</td>\n",
       "      <td>1354</td>\n",
       "    </tr>\n",
       "    <tr>\n",
       "      <th>2</th>\n",
       "      <td>1985</td>\n",
       "      <td>25</td>\n",
       "      <td>1112</td>\n",
       "      <td>1223</td>\n",
       "    </tr>\n",
       "    <tr>\n",
       "      <th>3</th>\n",
       "      <td>1985</td>\n",
       "      <td>25</td>\n",
       "      <td>1165</td>\n",
       "      <td>1432</td>\n",
       "    </tr>\n",
       "    <tr>\n",
       "      <th>4</th>\n",
       "      <td>1985</td>\n",
       "      <td>25</td>\n",
       "      <td>1192</td>\n",
       "      <td>1447</td>\n",
       "    </tr>\n",
       "  </tbody>\n",
       "</table>\n",
       "</div>"
      ],
      "text/plain": [
       "   Season  Daynum  Wteam  Lteam\n",
       "0    1985      20   1228   1328\n",
       "1    1985      25   1106   1354\n",
       "2    1985      25   1112   1223\n",
       "3    1985      25   1165   1432\n",
       "4    1985      25   1192   1447"
      ]
     },
     "execution_count": 5,
     "metadata": {},
     "output_type": "execute_result"
    }
   ],
   "source": [
    "#df_concat = pd.concat((df_reg, df_tour_b2017), ignore_index=True)  #uncomment this line to run test data\n",
    "\n",
    "df_concat = pd.concat((df_reg, df_tour), ignore_index=True) #uncomment this line to run full data\n",
    "\n",
    "#renaming columns to match script cuz I'm lazy\n",
    "df_concat.rename(columns={'DayNum': 'Daynum', 'WTeamID': 'Wteam', 'LTeamID': 'Lteam'}, inplace=True)\n",
    "df_concat.drop(labels=[ 'WScore', 'LScore', 'WLoc', 'NumOT'], inplace=True, axis=1)\n",
    "df_concat.sort_values(by=['Season', 'Daynum'], inplace=True)\n",
    "df_concat.head()"
   ]
  },
  {
   "cell_type": "markdown",
   "metadata": {
    "_cell_guid": "45958d7a-2b4e-ed61-1851-a511f6014002"
   },
   "source": [
    "Transform team IDs to be from 0 to number_of_teams-1.\n",
    "We do this so that we can use team ID as an index for lookups later."
   ]
  },
  {
   "cell_type": "code",
   "execution_count": 6,
   "metadata": {
    "_cell_guid": "54e1a6a8-19f6-01ea-d3f1-a076e3e1cf0a"
   },
   "outputs": [],
   "source": [
    "le = LabelEncoder()\n",
    "df_concat.Wteam = le.fit_transform(df_concat.Wteam)\n",
    "df_concat.Lteam = le.fit_transform(df_concat.Lteam)"
   ]
  },
  {
   "cell_type": "markdown",
   "metadata": {},
   "source": [
    "### Prep Test Data Set\n",
    "\n",
    "Uncomment this section to run test data"
   ]
  },
  {
   "cell_type": "code",
   "execution_count": 7,
   "metadata": {
    "scrolled": true
   },
   "outputs": [],
   "source": [
    "# df_tour_test.rename(columns={'DayNum': 'Daynum', 'WTeamID': 'Wteam', 'LTeamID': 'Lteam'}, inplace=True)\n",
    "# df_tour_test.drop(labels=[ 'WScore', 'LScore', 'WLoc', 'NumOT'], inplace=True, axis=1)\n",
    "# df_tour_test.Wteam = le.transform(df_tour_test.Wteam)\n",
    "# df_tour_test.Lteam = le.transform(df_tour_test.Lteam)\n",
    "# df_tour_test.head()"
   ]
  },
  {
   "cell_type": "markdown",
   "metadata": {
    "_cell_guid": "e1e80d03-ede6-b8b8-f1b6-ff5fb24451ab"
   },
   "source": [
    "## Elo stuff preparation ##\n",
    "Define the functions we need to calculate the probability of winning given two Elo ratings,\n",
    "and also the change in Elo rating after a game is played."
   ]
  },
  {
   "cell_type": "code",
   "execution_count": 8,
   "metadata": {
    "_cell_guid": "ea7425a0-a672-4d9b-ee05-d6bd10979a0a"
   },
   "outputs": [],
   "source": [
    "def update_elo(winner_elo, loser_elo):\n",
    "    \"\"\"\n",
    "    https://en.wikipedia.org/wiki/Elo_rating_system#Mathematical_details\n",
    "    \"\"\"\n",
    "    expected_win = expected_result(winner_elo, loser_elo)\n",
    "    change_in_elo = k_factor * (1-expected_win)\n",
    "    winner_elo += change_in_elo\n",
    "    loser_elo -= change_in_elo\n",
    "    return winner_elo, loser_elo\n",
    "\n",
    "def expected_result(elo_a, elo_b):\n",
    "    \"\"\"\n",
    "    https://en.wikipedia.org/wiki/Elo_rating_system#Mathematical_details\n",
    "    \"\"\"\n",
    "    expect_a = 1.0/(1+10**((elo_b - elo_a)/elo_width))\n",
    "    return expect_a"
   ]
  },
  {
   "cell_type": "code",
   "execution_count": 9,
   "metadata": {
    "_cell_guid": "88a8407d-5baf-0f29-f89f-c78b2a3e820f"
   },
   "outputs": [],
   "source": [
    "def update_end_of_season(elos):\n",
    "    \"\"\"Regression towards the mean\n",
    "    \n",
    "    Following 538 nfl methods\n",
    "    https://fivethirtyeight.com/datalab/nfl-elo-ratings-are-back/\n",
    "    \"\"\"\n",
    "    diff_from_mean = elos - mean_elo\n",
    "    elos -= diff_from_mean/3\n",
    "    return elos"
   ]
  },
  {
   "cell_type": "code",
   "execution_count": 10,
   "metadata": {
    "_cell_guid": "a6a35ea0-78b7-aeaa-3f5c-cfc9d3b434fd"
   },
   "outputs": [
    {
     "name": "stdout",
     "output_type": "stream",
     "text": [
      "364\n"
     ]
    }
   ],
   "source": [
    "df_concat['w_elo_before_game'] = 0\n",
    "df_concat['w_elo_after_game'] = 0\n",
    "df_concat['l_elo_before_game'] = 0\n",
    "df_concat['l_elo_after_game'] = 0\n",
    "elo_per_season = {}\n",
    "n_teams = len(le.classes_)\n",
    "current_elos = np.ones(shape=(n_teams)) * mean_elo\n",
    "print(n_teams)"
   ]
  },
  {
   "cell_type": "markdown",
   "metadata": {
    "_cell_guid": "eec1591c-a91e-2cfb-93b8-53387de9038c"
   },
   "source": [
    "# Make a new column with a unique time\n",
    "I use days since Jan 1, 1970 to be able to convert to a datetime object later"
   ]
  },
  {
   "cell_type": "code",
   "execution_count": 11,
   "metadata": {
    "_cell_guid": "c3221ed6-314b-6827-bbc7-f7009e0e5d40"
   },
   "outputs": [],
   "source": [
    "df_concat['total_days'] = (df_concat.Season-1970)*365.25 + df_concat.Daynum"
   ]
  },
  {
   "cell_type": "code",
   "execution_count": 12,
   "metadata": {
    "_cell_guid": "a62220ab-905b-2f5f-4c1a-7007e42c2e55"
   },
   "outputs": [],
   "source": [
    "df_team_elos = pd.DataFrame(index=df_concat.total_days.unique(), \n",
    "                            columns=range(n_teams))\n",
    "df_team_elos.iloc[0, :] = current_elos"
   ]
  },
  {
   "cell_type": "markdown",
   "metadata": {
    "_cell_guid": "02094219-ba00-9bb9-b58c-05ac0068c59f"
   },
   "source": [
    "## The loop where it happens ##\n",
    "\n",
    "- We go through each row in the DataFrame. \n",
    "- We look up the current Elo rating of both teams. \n",
    "- We calculate the expected wins for the team that *actually won*. This is also what we use for *probability of winning*.\n",
    "- Write Elo before and after the game in the Data Frame. \n",
    "- Update the Elo rating for both teams in the \"current_elos\" list."
   ]
  },
  {
   "cell_type": "code",
   "execution_count": 13,
   "metadata": {
    "_cell_guid": "fa3bef3f-7fa7-7e5e-819e-07c0ba2645ac"
   },
   "outputs": [],
   "source": [
    "current_season = df_concat.at[0, 'Season']\n",
    "for row in df_concat.itertuples():\n",
    "    if row.Season != current_season:\n",
    "        # Check if we are starting a new season. \n",
    "        # Regress all ratings towards the mean\n",
    "        current_elos = update_end_of_season(current_elos)\n",
    "        # Write the beginning of new season ratings to a dict for later lookups.\n",
    "        elo_per_season[row.Season] = current_elos.copy()\n",
    "        current_season = row.Season\n",
    "    idx = row.Index\n",
    "    w_id = row.Wteam\n",
    "    l_id = row.Lteam\n",
    "    # Get current elos\n",
    "    w_elo_before = current_elos[w_id]\n",
    "    l_elo_before = current_elos[l_id]\n",
    "    # Update on game results\n",
    "    w_elo_after, l_elo_after = update_elo(w_elo_before, l_elo_before)\n",
    "        \n",
    "    # Save updated elos\n",
    "    df_concat.at[idx, 'w_elo_before_game'] = w_elo_before\n",
    "    df_concat.at[idx, 'l_elo_before_game'] = l_elo_before\n",
    "    df_concat.at[idx, 'w_elo_after_game'] = w_elo_after\n",
    "    df_concat.at[idx, 'l_elo_after_game'] = l_elo_after\n",
    "    current_elos[w_id] = w_elo_after\n",
    "    current_elos[l_id] = l_elo_after\n",
    "    \n",
    "    # Save elos to team DataFrame\n",
    "    today = row.total_days\n",
    "    df_team_elos.at[today, w_id] = w_elo_after\n",
    "    df_team_elos.at[today, l_id] = l_elo_after\n"
   ]
  },
  {
   "cell_type": "markdown",
   "metadata": {
    "_cell_guid": "31d5a99f-f0c6-486e-c6d9-f1964c7d610d"
   },
   "source": [
    "## Evaluation Model Overall\n",
    "Sample 10,000 games from recent seasons. \n",
    "Record the expected wins and use this to calculate the logloss."
   ]
  },
  {
   "cell_type": "code",
   "execution_count": 14,
   "metadata": {
    "_cell_guid": "6ac34d31-349a-aa3b-855d-19e376753e80"
   },
   "outputs": [
    {
     "name": "stdout",
     "output_type": "stream",
     "text": [
      "-0.570264332725\n",
      "[0.5, 0.5, 0.45122566414025822, 0.5, 0.54592192278048368]\n",
      "[0, 0, 0, 0, 1]\n"
     ]
    }
   ],
   "source": [
    "#n_samples = 10000\n",
    "#samples = df_concat[df_concat.Season > 2010].sample(n_samples)\n",
    "loss=0\n",
    "expected_list = []\n",
    "win_loss_list = []\n",
    "for row in df_concat.itertuples():  #change to sample.itertuples() to run sample test uncomment first two lines\n",
    "    w_elo = row.w_elo_before_game\n",
    "    l_elo = row.l_elo_before_game\n",
    "    w_expected = expected_result(w_elo, l_elo)\n",
    "    expected_list.append(w_expected)\n",
    "    win_loss_list.append(int(round(w_expected))) #this round doesn't round 0.5 up to 1 but to works pretty well\n",
    "    loss += np.log(w_expected)\n",
    "print(loss/len(expected_list))\n",
    "print(expected_list[100:105])\n",
    "print(win_loss_list[100:105])"
   ]
  },
  {
   "cell_type": "code",
   "execution_count": 15,
   "metadata": {},
   "outputs": [
    {
     "name": "stdout",
     "output_type": "stream",
     "text": [
      "Accuracy Score:\n",
      "0.6949544196439907\n"
     ]
    }
   ],
   "source": [
    "numberofcorrect = win_loss_list.count(1)\n",
    "print(\"Accuracy Score:\")\n",
    "print(numberofcorrect/len(win_loss_list))"
   ]
  },
  {
   "cell_type": "code",
   "execution_count": 16,
   "metadata": {
    "_cell_guid": "f32f7210-6702-2f9f-6254-4d60a284a20e"
   },
   "outputs": [
    {
     "data": {
      "text/plain": [
       "<matplotlib.text.Text at 0x1127088d0>"
      ]
     },
     "execution_count": 16,
     "metadata": {},
     "output_type": "execute_result"
    },
    {
     "data": {
      "image/png": "[encoded data removed]",
      "text/plain": [
       "<matplotlib.figure.Figure at 0x11512e4e0>"
      ]
     },
     "metadata": {},
     "output_type": "display_data"
    }
   ],
   "source": [
    "sns.distplot(expected_list, kde=False, bins=20)\n",
    "plt.xlabel('Elo Expected Wins for Actual Winner')\n",
    "plt.ylabel('Counts')"
   ]
  },
  {
   "cell_type": "markdown",
   "metadata": {
    "_cell_guid": "407fc140-a5e6-b668-f8f3-3e17bec3079a"
   },
   "source": [
    "## Look at Elo ratings over time ##\n",
    "\n",
    "- Fill all the N/As with the previous Elo rating. \n",
    "- Rename the columns to a string\n",
    "- Make a new column with the datetime of the game"
   ]
  },
  {
   "cell_type": "code",
   "execution_count": 17,
   "metadata": {
    "_cell_guid": "82204427-887e-1dde-3fc3-424e721e9436"
   },
   "outputs": [
    {
     "data": {
      "text/html": [
       "<div>\n",
       "<style>\n",
       "    .dataframe thead tr:only-child th {\n",
       "        text-align: right;\n",
       "    }\n",
       "\n",
       "    .dataframe thead th {\n",
       "        text-align: left;\n",
       "    }\n",
       "\n",
       "    .dataframe tbody tr th {\n",
       "        vertical-align: top;\n",
       "    }\n",
       "</style>\n",
       "<table border=\"1\" class=\"dataframe\">\n",
       "  <thead>\n",
       "    <tr style=\"text-align: right;\">\n",
       "      <th></th>\n",
       "      <th>team_0</th>\n",
       "      <th>team_1</th>\n",
       "      <th>team_2</th>\n",
       "      <th>team_3</th>\n",
       "      <th>team_4</th>\n",
       "      <th>team_5</th>\n",
       "      <th>team_6</th>\n",
       "      <th>team_7</th>\n",
       "      <th>team_8</th>\n",
       "      <th>team_9</th>\n",
       "      <th>...</th>\n",
       "      <th>team_355</th>\n",
       "      <th>team_356</th>\n",
       "      <th>team_357</th>\n",
       "      <th>team_358</th>\n",
       "      <th>team_359</th>\n",
       "      <th>team_360</th>\n",
       "      <th>team_361</th>\n",
       "      <th>team_362</th>\n",
       "      <th>team_363</th>\n",
       "      <th>date</th>\n",
       "    </tr>\n",
       "  </thead>\n",
       "  <tbody>\n",
       "    <tr>\n",
       "      <th>5498.75</th>\n",
       "      <td>1500.0</td>\n",
       "      <td>1500.0</td>\n",
       "      <td>1500.0</td>\n",
       "      <td>1500.000000</td>\n",
       "      <td>1500.0</td>\n",
       "      <td>1500.0</td>\n",
       "      <td>1500.0</td>\n",
       "      <td>1500.0</td>\n",
       "      <td>1500.0</td>\n",
       "      <td>1500.0</td>\n",
       "      <td>...</td>\n",
       "      <td>1500.0</td>\n",
       "      <td>1500.0</td>\n",
       "      <td>1500.000000</td>\n",
       "      <td>1500.0</td>\n",
       "      <td>1500.0</td>\n",
       "      <td>1500.0</td>\n",
       "      <td>1500.0</td>\n",
       "      <td>1500.0</td>\n",
       "      <td>1500.000000</td>\n",
       "      <td>1985-01-20 18:00:00</td>\n",
       "    </tr>\n",
       "    <tr>\n",
       "      <th>5503.75</th>\n",
       "      <td>1500.0</td>\n",
       "      <td>1500.0</td>\n",
       "      <td>1500.0</td>\n",
       "      <td>1500.000000</td>\n",
       "      <td>1500.0</td>\n",
       "      <td>1532.0</td>\n",
       "      <td>1500.0</td>\n",
       "      <td>1500.0</td>\n",
       "      <td>1500.0</td>\n",
       "      <td>1500.0</td>\n",
       "      <td>...</td>\n",
       "      <td>1500.0</td>\n",
       "      <td>1500.0</td>\n",
       "      <td>1500.000000</td>\n",
       "      <td>1500.0</td>\n",
       "      <td>1500.0</td>\n",
       "      <td>1500.0</td>\n",
       "      <td>1500.0</td>\n",
       "      <td>1500.0</td>\n",
       "      <td>1500.000000</td>\n",
       "      <td>1985-01-25 18:00:00</td>\n",
       "    </tr>\n",
       "    <tr>\n",
       "      <th>5504.75</th>\n",
       "      <td>1500.0</td>\n",
       "      <td>1468.0</td>\n",
       "      <td>1500.0</td>\n",
       "      <td>1500.000000</td>\n",
       "      <td>1500.0</td>\n",
       "      <td>1532.0</td>\n",
       "      <td>1500.0</td>\n",
       "      <td>1500.0</td>\n",
       "      <td>1500.0</td>\n",
       "      <td>1500.0</td>\n",
       "      <td>...</td>\n",
       "      <td>1500.0</td>\n",
       "      <td>1500.0</td>\n",
       "      <td>1500.000000</td>\n",
       "      <td>1500.0</td>\n",
       "      <td>1500.0</td>\n",
       "      <td>1500.0</td>\n",
       "      <td>1500.0</td>\n",
       "      <td>1500.0</td>\n",
       "      <td>1500.000000</td>\n",
       "      <td>1985-01-26 18:00:00</td>\n",
       "    </tr>\n",
       "    <tr>\n",
       "      <th>5505.75</th>\n",
       "      <td>1500.0</td>\n",
       "      <td>1468.0</td>\n",
       "      <td>1500.0</td>\n",
       "      <td>1500.000000</td>\n",
       "      <td>1500.0</td>\n",
       "      <td>1532.0</td>\n",
       "      <td>1500.0</td>\n",
       "      <td>1500.0</td>\n",
       "      <td>1500.0</td>\n",
       "      <td>1500.0</td>\n",
       "      <td>...</td>\n",
       "      <td>1500.0</td>\n",
       "      <td>1500.0</td>\n",
       "      <td>1529.060997</td>\n",
       "      <td>1500.0</td>\n",
       "      <td>1500.0</td>\n",
       "      <td>1500.0</td>\n",
       "      <td>1500.0</td>\n",
       "      <td>1500.0</td>\n",
       "      <td>1500.000000</td>\n",
       "      <td>1985-01-27 18:00:00</td>\n",
       "    </tr>\n",
       "    <tr>\n",
       "      <th>5506.75</th>\n",
       "      <td>1500.0</td>\n",
       "      <td>1468.0</td>\n",
       "      <td>1500.0</td>\n",
       "      <td>1529.060997</td>\n",
       "      <td>1500.0</td>\n",
       "      <td>1532.0</td>\n",
       "      <td>1500.0</td>\n",
       "      <td>1500.0</td>\n",
       "      <td>1500.0</td>\n",
       "      <td>1500.0</td>\n",
       "      <td>...</td>\n",
       "      <td>1500.0</td>\n",
       "      <td>1500.0</td>\n",
       "      <td>1529.060997</td>\n",
       "      <td>1500.0</td>\n",
       "      <td>1500.0</td>\n",
       "      <td>1500.0</td>\n",
       "      <td>1500.0</td>\n",
       "      <td>1500.0</td>\n",
       "      <td>1529.060997</td>\n",
       "      <td>1985-01-28 18:00:00</td>\n",
       "    </tr>\n",
       "  </tbody>\n",
       "</table>\n",
       "<p>5 rows × 365 columns</p>\n",
       "</div>"
      ],
      "text/plain": [
       "         team_0  team_1  team_2       team_3  team_4  team_5  team_6  team_7  \\\n",
       "5498.75  1500.0  1500.0  1500.0  1500.000000  1500.0  1500.0  1500.0  1500.0   \n",
       "5503.75  1500.0  1500.0  1500.0  1500.000000  1500.0  1532.0  1500.0  1500.0   \n",
       "5504.75  1500.0  1468.0  1500.0  1500.000000  1500.0  1532.0  1500.0  1500.0   \n",
       "5505.75  1500.0  1468.0  1500.0  1500.000000  1500.0  1532.0  1500.0  1500.0   \n",
       "5506.75  1500.0  1468.0  1500.0  1529.060997  1500.0  1532.0  1500.0  1500.0   \n",
       "\n",
       "         team_8  team_9         ...          team_355  team_356     team_357  \\\n",
       "5498.75  1500.0  1500.0         ...            1500.0    1500.0  1500.000000   \n",
       "5503.75  1500.0  1500.0         ...            1500.0    1500.0  1500.000000   \n",
       "5504.75  1500.0  1500.0         ...            1500.0    1500.0  1500.000000   \n",
       "5505.75  1500.0  1500.0         ...            1500.0    1500.0  1529.060997   \n",
       "5506.75  1500.0  1500.0         ...            1500.0    1500.0  1529.060997   \n",
       "\n",
       "         team_358  team_359  team_360  team_361  team_362     team_363  \\\n",
       "5498.75    1500.0    1500.0    1500.0    1500.0    1500.0  1500.000000   \n",
       "5503.75    1500.0    1500.0    1500.0    1500.0    1500.0  1500.000000   \n",
       "5504.75    1500.0    1500.0    1500.0    1500.0    1500.0  1500.000000   \n",
       "5505.75    1500.0    1500.0    1500.0    1500.0    1500.0  1500.000000   \n",
       "5506.75    1500.0    1500.0    1500.0    1500.0    1500.0  1529.060997   \n",
       "\n",
       "                       date  \n",
       "5498.75 1985-01-20 18:00:00  \n",
       "5503.75 1985-01-25 18:00:00  \n",
       "5504.75 1985-01-26 18:00:00  \n",
       "5505.75 1985-01-27 18:00:00  \n",
       "5506.75 1985-01-28 18:00:00  \n",
       "\n",
       "[5 rows x 365 columns]"
      ]
     },
     "execution_count": 17,
     "metadata": {},
     "output_type": "execute_result"
    }
   ],
   "source": [
    "df_team_elos.fillna(method='ffill', inplace=True)\n",
    "trans_dict = {i: 'team_{}'.format(i) for i in range(n_teams)}\n",
    "df_team_elos.rename(columns=trans_dict, inplace=True)\n",
    "epoch = (df_team_elos.index)\n",
    "df_team_elos['date'] = pd.to_datetime(epoch, unit='D')\n",
    "df_team_elos.head()"
   ]
  },
  {
   "cell_type": "code",
   "execution_count": 18,
   "metadata": {
    "_cell_guid": "fe6bcc83-5bc2-faa9-1e03-0a44319bd9c6"
   },
   "outputs": [
    {
     "data": {
      "text/plain": [
       "<matplotlib.text.Text at 0x1183cf518>"
      ]
     },
     "execution_count": 18,
     "metadata": {},
     "output_type": "execute_result"
    },
    {
     "data": {
      "image/png": "[encoded data removed]",
      "text/plain": [
       "<matplotlib.figure.Figure at 0x11782b400>"
      ]
     },
     "metadata": {},
     "output_type": "display_data"
    }
   ],
   "source": [
    "df_team_elos.plot(x='date', y=['team_1', 'team_2'])\n",
    "plt.ylabel('Elo rating')"
   ]
  },
  {
   "cell_type": "markdown",
   "metadata": {},
   "source": [
    "## Prep Test Data for Predictions"
   ]
  },
  {
   "cell_type": "code",
   "execution_count": 19,
   "metadata": {},
   "outputs": [],
   "source": [
    "# #dictionary for end of season elo score (change elo_per_season value)\n",
    "# trans_elo = dict(zip(range((elo_per_season[2017].shape[0])),elo_per_season[2017]))\n",
    "\n",
    "# #map elo to test dataset\n",
    "# df_tour_test[\"W_elo\"] = df_tour_test[\"Wteam\"].map(trans_elo)\n",
    "# df_tour_test[\"L_elo\"] = df_tour_test[\"Lteam\"].map(trans_elo)\n",
    "\n",
    "# #run prediction\n",
    "# loss=0\n",
    "# expected_list = []\n",
    "# win_loss_list = []\n",
    "# for row in df_tour_test.itertuples():\n",
    "#     w_elo = row.W_elo\n",
    "#     l_elo = row.L_elo\n",
    "#     w_expected = expected_result(w_elo, l_elo)\n",
    "#     expected_list.append(w_expected)\n",
    "#     win_loss_list.append(int(round(w_expected))) #this round doesn't round 0.5 up\n",
    "#     loss += np.log(w_expected)\n",
    "# print(loss/len(expected_list))\n",
    "# print(expected_list[0:5])\n",
    "# print(win_loss_list[0:5])\n",
    "\n",
    "# numberofcorrect = win_loss_list.count(1)\n",
    "# print(\"Accuracy Score:\")\n",
    "# print(numberofcorrect/len(win_loss_list))"
   ]
  },
  {
   "cell_type": "markdown",
   "metadata": {},
   "source": [
    "## Actual 2018 Predictions"
   ]
  },
  {
   "cell_type": "code",
   "execution_count": 20,
   "metadata": {},
   "outputs": [
    {
     "name": "stdout",
     "output_type": "stream",
     "text": [
      "-0.788095602853\n"
     ]
    },
    {
     "data": {
      "text/html": [
       "<div>\n",
       "<style>\n",
       "    .dataframe thead tr:only-child th {\n",
       "        text-align: right;\n",
       "    }\n",
       "\n",
       "    .dataframe thead th {\n",
       "        text-align: left;\n",
       "    }\n",
       "\n",
       "    .dataframe tbody tr th {\n",
       "        vertical-align: top;\n",
       "    }\n",
       "</style>\n",
       "<table border=\"1\" class=\"dataframe\">\n",
       "  <thead>\n",
       "    <tr style=\"text-align: right;\">\n",
       "      <th></th>\n",
       "      <th>ID</th>\n",
       "      <th>Pred</th>\n",
       "      <th>Year</th>\n",
       "      <th>Wteam</th>\n",
       "      <th>Lteam</th>\n",
       "      <th>WteamName</th>\n",
       "      <th>LteamName</th>\n",
       "      <th>W_elo</th>\n",
       "      <th>L_elo</th>\n",
       "    </tr>\n",
       "  </thead>\n",
       "  <tbody>\n",
       "    <tr>\n",
       "      <th>0</th>\n",
       "      <td>2018_1104_1112</td>\n",
       "      <td>0.225282</td>\n",
       "      <td>2018.0</td>\n",
       "      <td>3</td>\n",
       "      <td>11</td>\n",
       "      <td>Alabama</td>\n",
       "      <td>Arizona</td>\n",
       "      <td>1627.229724</td>\n",
       "      <td>1841.796862</td>\n",
       "    </tr>\n",
       "    <tr>\n",
       "      <th>1</th>\n",
       "      <td>2018_1104_1113</td>\n",
       "      <td>0.558960</td>\n",
       "      <td>2018.0</td>\n",
       "      <td>3</td>\n",
       "      <td>12</td>\n",
       "      <td>Alabama</td>\n",
       "      <td>Arizona St</td>\n",
       "      <td>1627.229724</td>\n",
       "      <td>1586.068375</td>\n",
       "    </tr>\n",
       "    <tr>\n",
       "      <th>2</th>\n",
       "      <td>2018_1104_1116</td>\n",
       "      <td>0.349548</td>\n",
       "      <td>2018.0</td>\n",
       "      <td>3</td>\n",
       "      <td>15</td>\n",
       "      <td>Alabama</td>\n",
       "      <td>Arkansas</td>\n",
       "      <td>1627.229724</td>\n",
       "      <td>1735.113339</td>\n",
       "    </tr>\n",
       "    <tr>\n",
       "      <th>3</th>\n",
       "      <td>2018_1104_1120</td>\n",
       "      <td>0.620491</td>\n",
       "      <td>2018.0</td>\n",
       "      <td>3</td>\n",
       "      <td>19</td>\n",
       "      <td>Alabama</td>\n",
       "      <td>Auburn</td>\n",
       "      <td>1627.229724</td>\n",
       "      <td>1541.824092</td>\n",
       "    </tr>\n",
       "    <tr>\n",
       "      <th>4</th>\n",
       "      <td>2018_1104_1137</td>\n",
       "      <td>0.527763</td>\n",
       "      <td>2018.0</td>\n",
       "      <td>3</td>\n",
       "      <td>36</td>\n",
       "      <td>Alabama</td>\n",
       "      <td>Bucknell</td>\n",
       "      <td>1627.229724</td>\n",
       "      <td>1607.918499</td>\n",
       "    </tr>\n",
       "  </tbody>\n",
       "</table>\n",
       "</div>"
      ],
      "text/plain": [
       "               ID      Pred    Year  Wteam  Lteam WteamName   LteamName  \\\n",
       "0  2018_1104_1112  0.225282  2018.0      3     11   Alabama     Arizona   \n",
       "1  2018_1104_1113  0.558960  2018.0      3     12   Alabama  Arizona St   \n",
       "2  2018_1104_1116  0.349548  2018.0      3     15   Alabama    Arkansas   \n",
       "3  2018_1104_1120  0.620491  2018.0      3     19   Alabama      Auburn   \n",
       "4  2018_1104_1137  0.527763  2018.0      3     36   Alabama    Bucknell   \n",
       "\n",
       "         W_elo        L_elo  \n",
       "0  1627.229724  1841.796862  \n",
       "1  1627.229724  1586.068375  \n",
       "2  1627.229724  1735.113339  \n",
       "3  1627.229724  1541.824092  \n",
       "4  1627.229724  1607.918499  "
      ]
     },
     "execution_count": 20,
     "metadata": {},
     "output_type": "execute_result"
    }
   ],
   "source": [
    "df_predict = pd.read_csv(data_dir + 'SampleSubmissionStage2.csv')\n",
    "df_teams = pd.read_csv(data_dir + 'Teams.csv')\n",
    "\n",
    "\n",
    "def get_year_t1_t2(id):\n",
    "    \"\"\"Return a tuple with ints `year`, `team1` and `team2`.\"\"\"\n",
    "    return (int(x) for x in id.split('_'))\n",
    "\n",
    "for row in df_predict.itertuples():\n",
    "    year, t1, t2 = get_year_t1_t2(row.ID)\n",
    "    idx = row.Index\n",
    "    df_predict.at[idx, 'Year'] = year\n",
    "    df_predict.at[idx, 'Wteam'] = t1\n",
    "    df_predict.at[idx, 'Lteam'] = t2\n",
    "\n",
    "\n",
    "#this is a lambda expression simlified into a function the actual lambda expression is commented out\n",
    "#df_predict['WteamName'] = df_predict['Wteam'].apply(lambda team: df_teams['TeamName'][(df_teams['TeamID'] == team)].value[0])\n",
    "def lookup_team(team):\n",
    "    match = (df_teams['TeamID'] == team)\n",
    "    team = df_teams['TeamName'][match]\n",
    "    return team.values[0]    \n",
    "\n",
    "df_predict['WteamName'] = df_predict['Wteam'].apply(lookup_team)\n",
    "df_predict['LteamName'] = df_predict['Lteam'].apply(lookup_team)\n",
    "\n",
    "#transform to indexed id\n",
    "df_predict.Wteam = le.transform(df_predict.Wteam)\n",
    "df_predict.Lteam = le.transform(df_predict.Lteam)\n",
    "\n",
    "#dictionary for end of season elo score\n",
    "trans_elo = dict(zip(range((elo_per_season[2018].shape[0])),elo_per_season[2018]))\n",
    "\n",
    "#map elo to dataset\n",
    "df_predict[\"W_elo\"] = df_predict[\"Wteam\"].map(trans_elo)\n",
    "df_predict[\"L_elo\"] = df_predict[\"Lteam\"].map(trans_elo)\n",
    "\n",
    "#run prediction\n",
    "loss=0\n",
    "expected_list = []\n",
    "win_loss_list = []\n",
    "for row in df_predict.itertuples():\n",
    "    w_elo = row.W_elo\n",
    "    l_elo = row.L_elo\n",
    "    w_expected = expected_result(w_elo, l_elo)\n",
    "    expected_list.append(w_expected)\n",
    "    win_loss_list.append(int(round(w_expected))) #this round doesn't round 0.5 up\n",
    "    loss += np.log(w_expected)\n",
    "df_predict['Pred'] = expected_list\n",
    "print(loss/len(expected_list))\n",
    "\n",
    "df_predict.head()\n"
   ]
  },
  {
   "cell_type": "code",
   "execution_count": 23,
   "metadata": {},
   "outputs": [],
   "source": [
    "df_predict[['ID','Pred']].to_csv('predictions/ELO_predict_MM_2018.csv', index=False)\n",
    "df_predict.to_csv('predictions/March_Madness_Prediction_2018.csv', index=False)"
   ]
  }
 ],
 "metadata": {
  "_change_revision": 92,
  "_is_fork": false,
  "kernelspec": {
   "display_name": "Python 3",
   "language": "python",
   "name": "python3"
  },
  "language_info": {
   "codemirror_mode": {
    "name": "ipython",
    "version": 3
   },
   "file_extension": ".py",
   "mimetype": "text/x-python",
   "name": "python",
   "nbconvert_exporter": "python",
   "pygments_lexer": "ipython3",
   "version": "3.6.4"
  }
 },
 "nbformat": 4,
 "nbformat_minor": 1
}
